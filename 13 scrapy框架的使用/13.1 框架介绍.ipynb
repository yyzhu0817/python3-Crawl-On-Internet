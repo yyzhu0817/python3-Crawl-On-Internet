{
 "cells": [
  {
   "cell_type": "markdown",
   "metadata": {
    "Collapsed": "false"
   },
   "source": [
    "# 1.架构介绍"
   ]
  },
  {
   "cell_type": "markdown",
   "metadata": {
    "Collapsed": "false"
   },
   "source": [
    "* Engine。 引擎， 处理整个系统的数据流 处理、触发事务， 是整个框架的核心。 \n",
    "* Item。 项目， 它定义了爬取结果的数 据结构， 爬取的数据会被赋值成 该 Item 对象。 \n",
    "* Scheduler。 调度器， 接受引擎发过来的请 求并将其加入 队列中 ， 在引擎再次请求的时 候将 请求提供给引擎。\n",
    "* Downloader。下载器， 下载网页内容，并将网页内容返回给蜘蛛。\n",
    "* Spiders。 蜘蛛， 其内定义了爬取的逻辑 和网页的解析规则 ， 结果和新的请求。 \n",
    "* Item Pipeline 。 项目管道， 负责处理由蜘蛛从网 页中抽取的项目，它主要负责解析响应并 生成提取它的主要任务是清洗 、验证和存储数据。 \n",
    "* Downloader Middlewares。 下载器中间件， 位于引擎和下载器之间的钩子框架，主要处理引擎与下载器之间的请求 及响应。\n",
    "* Spider Middlewares 。 蜘蛛中间件， 位于引擎和蜘蛛之间 的钩子框架， 主要处理蜘蛛输入的响应和输出的结果及新的请求。"
   ]
  },
  {
   "cell_type": "markdown",
   "metadata": {
    "Collapsed": "false"
   },
   "source": [
    "# 2.数据流"
   ]
  },
  {
   "cell_type": "markdown",
   "metadata": {
    "Collapsed": "false"
   },
   "source": [
    "全部数据流由引擎控制"
   ]
  },
  {
   "cell_type": "markdown",
   "metadata": {
    "Collapsed": "false"
   },
   "source": [
    "# 3.项目结构"
   ]
  },
  {
   "cell_type": "code",
   "execution_count": null,
   "metadata": {
    "Collapsed": "false"
   },
   "outputs": [],
   "source": []
  }
 ],
 "metadata": {
  "kernelspec": {
   "display_name": "PyCharm (Code)",
   "language": "python",
   "name": "pycharm-6c12d93e"
  },
  "language_info": {
   "codemirror_mode": {
    "name": "ipython",
    "version": 3
   },
   "file_extension": ".py",
   "mimetype": "text/x-python",
   "name": "python",
   "nbconvert_exporter": "python",
   "pygments_lexer": "ipython3",
   "version": "3.7.4"
  }
 },
 "nbformat": 4,
 "nbformat_minor": 4
}
